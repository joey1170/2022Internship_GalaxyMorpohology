{
 "cells": [
  {
   "cell_type": "code",
   "execution_count": 1,
   "metadata": {},
   "outputs": [],
   "source": [
    "import os, sys, glob, shutil\n",
    "import argparse, logging\n",
    "import numpy as np\n",
    "import json, yaml"
   ]
  },
  {
   "cell_type": "code",
   "execution_count": null,
   "metadata": {},
   "outputs": [],
   "source": [
    "splinedatafile = \"/data/jip/2nd_TASK/run_forcepho/sersic_splinedata_large.h5\"\n",
    "#'/data/jip/2nd_TASK/forcepho/demo/data/sersic_mog_model.smooth=0.0150.h5'\n",
    "\n",
    "fitsfiles = '/data/jip/2nd_TASK/run_SMACS_forcepho_JWST.ver.Img/img/f115w_JWST_cutout.fits'\n",
    "psfstore ='/data/jip/2nd_TASK/run_SMACS_forcepho_JWST.ver.Img/psf/sersic1.6_rhalf0.080_snr100_F115Wadd_noise0_psf.h5'\n",
    " #\"/data/jip/2nd_TASK/run_SMACS_forcepho_JWST.ver.Img/psf/psf_nircam_ng4m0.h5\"\n",
    "#\n",
    "#\"/data/jip/2nd_TASK/run_forcepho/tests/sersic1.6_rhalf0.080_snr100_noise0/sersic1.6_rhalf0.080_snr100_noise0_psf.h5\"\n",
    "\n",
    "#\"./single_gauss_psf.h5\"\n",
    "#'/data/jip/2nd_TASK/forcepho/demo/demo_color/color_gausspsf.h5'  \n",
    "\n",
    "psfstorefile = psfstore\n",
    "outdir = \"./output\" # 만들어질 파일 저장 위치--outbase랑 같은 역할인데 모르고 만들어서 잘 쓰는 중\n",
    "outbase = \"./output\"\n",
    "tag = \"sample11\" # 만들어질 output 폴더 경로\n",
    "bands = \"CLEAR\"\n",
    "\n",
    "datapath = \"/data/jip/2nd_TASK/run_forcepho/test3/sample11/sample11_samples.h5\"\n",
    "plotsavepath = \"/data/jip/2nd_TASK/run_SMACS_forcepho/output/sample11\"\n",
    "plottagname = \"sample11\""
   ]
  },
  {
   "cell_type": "code",
   "execution_count": null,
   "metadata": {},
   "outputs": [],
   "source": [
    "# nargs 여러 개인 파일 없이 기초적으로 돌린 최초의 성공 코드 = 유물 보존용 감동 최초의 first 유-효 전진step  \n",
    "scr_name = \"run_basic_readdata.sh\"\n",
    "f = open(scr_name, \"w\")\n",
    "txt = \"ln -s /data/jip/2nd_TASK/forcepho/demo/demo_utils.py demo_utils.py\\n\"\n",
    "txt += \"ln -s /data/jip/2nd_TASK/forcepho/demo/data/sersic_splinedata_large.h5 sersic_splinedata_large.h5\\n\"\n",
    "txt += \"ln -s /data/jip/2nd_TASK/run_forcepho/config.py config.py\\n\"\n",
    "txt += \"export SPS_HOME=\\\"/data/jip/2nd_TASK/fsps\\\"\\n\"  # a() None error \n",
    "txt += \"export LD_LIBRARY_PATH=/opt/gcc-10.2.1/usr/lib64\\n\" # GLIBCXX 3.4.26 not found error 수동 설치 후 추가\n",
    "txt += f\"python basic_readdata.py --tag {tag:s} --splinedatafile {splinedatafile:s} --psfstore {psfstore:s} --fitsfiles {fitsfiles:s} --outdir {outdir:s} --bands {bands:s}\\n\"\n",
    "# txt += f\"python basic_plot_edit.py {datapath:s} {plotsavepath:s} {plottagname:s}\\n\"\n",
    "f.write(txt)    \n",
    "f.close()\n",
    "\n"
   ]
  },
  {
   "cell_type": "code",
   "execution_count": null,
   "metadata": {},
   "outputs": [],
   "source": [
    "os.system(\"sh run_basic_readdata.sh\")\n"
   ]
  },
  {
   "cell_type": "code",
   "execution_count": null,
   "metadata": {},
   "outputs": [],
   "source": []
  },
  {
   "cell_type": "code",
   "execution_count": null,
   "metadata": {},
   "outputs": [],
   "source": []
  },
  {
   "cell_type": "markdown",
   "metadata": {},
   "source": [
    "### psfstore에 F115W data가 없어서 발생한 문제일 가능성"
   ]
  },
  {
   "cell_type": "code",
   "execution_count": null,
   "metadata": {},
   "outputs": [],
   "source": []
  },
  {
   "cell_type": "code",
   "execution_count": 2,
   "metadata": {},
   "outputs": [],
   "source": [
    "#JWST 용인데 band가 안 맞아서 에러가 뜨는 것일 수도? JWST 에는 F105W 가 없다. -> F115W 넣어봄\n",
    "# Second Problem \n",
    "# Generated image에는 img[1], img[2]에 primaryHDU 말고도 imageHDU 가 있어서 uncertainty and noise 가 들어가있는데 그 정보가 HST SMCAS 이미지에는 없어서 다루기 어렵다. \n",
    "# demo_utils.py의 247-251 줄 참고"
   ]
  },
  {
   "cell_type": "markdown",
   "metadata": {},
   "source": [
    "## PSF edit and SAVE new psf w\n",
    "##### psf CLEAR filter를 임시로 JWST F115W로 바꿘다. 제대로 되면 WebbPSF로 제대로 써야지 "
   ]
  },
  {
   "cell_type": "code",
   "execution_count": 62,
   "metadata": {},
   "outputs": [
    {
     "data": {
      "text/plain": [
       "9"
      ]
     },
     "execution_count": 62,
     "metadata": {},
     "output_type": "execute_result"
    }
   ],
   "source": [
    "import h5py \n",
    "psf = h5py.File('/data/jip/2nd_TASK/run_forcepho/tests/sersic1.6_rhalf0.080_snr100_noise0/sersic1.6_rhalf0.080_snr100_noise0_psf.h5', 'r')\n",
    "psf['CLEAR'].attrs['n_psf_per_source'] #psf = psfstore.data\n"
   ]
  },
  {
   "cell_type": "code",
   "execution_count": 65,
   "metadata": {},
   "outputs": [],
   "source": [
    "import h5py \n",
    "psfo = h5py.File('/data/jip/2nd_TASK/run_SMACS_forcepho_JWST.ver.Img/psf/sersic1.6_rhalf0.080_snr100_noise0_psf.h5', 'r')\n",
    "psfo['CLEAR'].attrs['n_psf_per_source']\n",
    "psfo.close()\n"
   ]
  },
  {
   "cell_type": "code",
   "execution_count": 130,
   "metadata": {},
   "outputs": [],
   "source": [
    "f = h5py.File('/data/jip/2nd_TASK/run_SMACS_forcepho_JWST.ver.Img/psf/psf_nircam_ng4m0.h5', 'r')\n"
   ]
  },
  {
   "cell_type": "code",
   "execution_count": 135,
   "metadata": {},
   "outputs": [
    {
     "name": "stdout",
     "output_type": "stream",
     "text": [
      "date-added\n",
      "n_psf_per_source\n"
     ]
    }
   ],
   "source": [
    "for keys in f['F115W'].attrs.keys():\n",
    "    print(keys)"
   ]
  },
  {
   "cell_type": "code",
   "execution_count": 136,
   "metadata": {},
   "outputs": [
    {
     "data": {
      "text/plain": [
       "27"
      ]
     },
     "execution_count": 136,
     "metadata": {},
     "output_type": "execute_result"
    }
   ],
   "source": [
    "f['F115W'].attrs['n_psf_per_source']"
   ]
  },
  {
   "cell_type": "code",
   "execution_count": null,
   "metadata": {},
   "outputs": [],
   "source": []
  },
  {
   "cell_type": "markdown",
   "metadata": {},
   "source": [
    "Generated Demo File Result"
   ]
  },
  {
   "cell_type": "code",
   "execution_count": 13,
   "metadata": {},
   "outputs": [
    {
     "name": "stderr",
     "output_type": "stream",
     "text": [
      "WARNING: path= was not specified but multiple tables are present, reading in first available table (path=active) [astropy.io.misc.hdf5]\n"
     ]
    },
    {
     "data": {
      "text/html": [
       "<div><i>Table length=1</i>\n",
       "<table id=\"table140589405957632\" class=\"table-striped table-bordered table-condensed\">\n",
       "<thead><tr><th>id</th><th>source_index</th><th>is_active</th><th>is_valid</th><th>n_iter</th><th>n_patch</th><th>roi</th><th>ra</th><th>dec</th><th>q</th><th>pa</th><th>sersic</th><th>rhalf</th><th>CLEAR</th></tr></thead>\n",
       "<thead><tr><th>int32</th><th>int32</th><th>int32</th><th>int32</th><th>int32</th><th>int32</th><th>float32</th><th>float64</th><th>float64</th><th>float64</th><th>float64</th><th>float64</th><th>float64</th><th>float64</th></tr></thead>\n",
       "<tr><td>0</td><td>0</td><td>1</td><td>0</td><td>0</td><td>0</td><td>0.0</td><td>53.0</td><td>-27.0</td><td>0.9</td><td>0.0</td><td>1.6</td><td>0.08</td><td>1.0</td></tr>\n",
       "</table></div>"
      ],
      "text/plain": [
       "<Table length=1>\n",
       "  id  source_index is_active is_valid n_iter ...    pa    sersic  rhalf   CLEAR \n",
       "int32    int32       int32    int32   int32  ... float64 float64 float64 float64\n",
       "----- ------------ --------- -------- ------ ... ------- ------- ------- -------\n",
       "    0            0         1        0      0 ...     0.0     1.6    0.08     1.0"
      ]
     },
     "execution_count": 13,
     "metadata": {},
     "output_type": "execute_result"
    }
   ],
   "source": [
    "from astropy.table import Table\n",
    "Table.read('/data/jip/2nd_TASK/forcepho/demo/demo_basic/tests/sersic1.6_rhalf0.080_snr100_noise0/sersic1.6_rhalf0.080_snr100_noise0_samples.h5')"
   ]
  },
  {
   "cell_type": "markdown",
   "metadata": {},
   "source": [
    "My Data Import Version Code Result"
   ]
  },
  {
   "cell_type": "code",
   "execution_count": 14,
   "metadata": {},
   "outputs": [
    {
     "data": {
      "text/html": [
       "<div><i>Table length=1</i>\n",
       "<table id=\"table140593409024560\" class=\"table-striped table-bordered table-condensed\">\n",
       "<thead><tr><th>id</th><th>source_index</th><th>is_active</th><th>is_valid</th><th>n_iter</th><th>n_patch</th><th>roi</th><th>ra</th><th>dec</th><th>q</th><th>pa</th><th>sersic</th><th>rhalf</th><th>CLEAR</th></tr></thead>\n",
       "<thead><tr><th>int32</th><th>int32</th><th>int32</th><th>int32</th><th>int32</th><th>int32</th><th>float32</th><th>float64</th><th>float64</th><th>float64</th><th>float64</th><th>float64</th><th>float64</th><th>float64</th></tr></thead>\n",
       "<tr><td>0</td><td>0</td><td>1</td><td>0</td><td>0</td><td>0</td><td>0.0</td><td>53.0</td><td>-27.0</td><td>0.9</td><td>0.0</td><td>1.6</td><td>0.08</td><td>1.0</td></tr>\n",
       "</table></div>"
      ],
      "text/plain": [
       "<Table length=1>\n",
       "  id  source_index is_active is_valid n_iter ...    pa    sersic  rhalf   CLEAR \n",
       "int32    int32       int32    int32   int32  ... float64 float64 float64 float64\n",
       "----- ------------ --------- -------- ------ ... ------- ------- ------- -------\n",
       "    0            0         1        0      0 ...     0.0     1.6    0.08     1.0"
      ]
     },
     "execution_count": 14,
     "metadata": {},
     "output_type": "execute_result"
    }
   ],
   "source": [
    "from astropy.table import Table\n",
    "Table.read('/data/jip/2nd_TASK/run_forcepho/test3/sample11/sample11_samples.h5')"
   ]
  },
  {
   "cell_type": "code",
   "execution_count": null,
   "metadata": {},
   "outputs": [],
   "source": []
  },
  {
   "cell_type": "code",
   "execution_count": null,
   "metadata": {},
   "outputs": [],
   "source": []
  },
  {
   "cell_type": "code",
   "execution_count": null,
   "metadata": {},
   "outputs": [],
   "source": []
  },
  {
   "cell_type": "code",
   "execution_count": null,
   "metadata": {},
   "outputs": [],
   "source": []
  },
  {
   "cell_type": "code",
   "execution_count": null,
   "metadata": {},
   "outputs": [],
   "source": []
  },
  {
   "cell_type": "code",
   "execution_count": null,
   "metadata": {},
   "outputs": [],
   "source": []
  },
  {
   "cell_type": "code",
   "execution_count": null,
   "metadata": {},
   "outputs": [],
   "source": []
  },
  {
   "cell_type": "code",
   "execution_count": null,
   "metadata": {},
   "outputs": [],
   "source": []
  },
  {
   "cell_type": "code",
   "execution_count": null,
   "metadata": {},
   "outputs": [],
   "source": []
  },
  {
   "cell_type": "code",
   "execution_count": null,
   "metadata": {},
   "outputs": [],
   "source": []
  },
  {
   "cell_type": "code",
   "execution_count": null,
   "metadata": {},
   "outputs": [],
   "source": []
  }
 ],
 "metadata": {
  "kernelspec": {
   "display_name": "forcepho",
   "language": "python",
   "name": "python3"
  },
  "language_info": {
   "codemirror_mode": {
    "name": "ipython",
    "version": 3
   },
   "file_extension": ".py",
   "mimetype": "text/x-python",
   "name": "python",
   "nbconvert_exporter": "python",
   "pygments_lexer": "ipython3",
   "version": "3.9.13"
  },
  "orig_nbformat": 4,
  "vscode": {
   "interpreter": {
    "hash": "baa26dc3802b5bb06ec73e6e6052823927b2958cb683a71e0c4fa7cfbd55ba50"
   }
  }
 },
 "nbformat": 4,
 "nbformat_minor": 2
}
